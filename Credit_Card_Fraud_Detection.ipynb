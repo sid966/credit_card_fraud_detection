{
 "cells": [
  {
   "cell_type": "code",
   "execution_count": 1,
   "id": "66e76045",
   "metadata": {},
   "outputs": [],
   "source": [
    "import numpy as np \n",
    "import pandas as pd\n",
    "import random\n",
    "from collections import Counter\n",
    "from matplotlib import pyplot as plt\n",
    "import seaborn as sns\n",
    "import warnings\n",
    "warnings.filterwarnings(action=\"ignore\")"
   ]
  },
  {
   "cell_type": "markdown",
   "id": "7484a714",
   "metadata": {},
   "source": [
    "## importing dataset"
   ]
  },
  {
   "cell_type": "code",
   "execution_count": 2,
   "id": "0fa01f69",
   "metadata": {},
   "outputs": [],
   "source": [
    "df=pd.read_csv(\"Downloads/fraud_data.csv\")"
   ]
  },
  {
   "cell_type": "code",
   "execution_count": 3,
   "id": "b0d2c36a",
   "metadata": {
    "scrolled": true
   },
   "outputs": [
    {
     "data": {
      "text/html": [
       "<div>\n",
       "<style scoped>\n",
       "    .dataframe tbody tr th:only-of-type {\n",
       "        vertical-align: middle;\n",
       "    }\n",
       "\n",
       "    .dataframe tbody tr th {\n",
       "        vertical-align: top;\n",
       "    }\n",
       "\n",
       "    .dataframe thead th {\n",
       "        text-align: right;\n",
       "    }\n",
       "</style>\n",
       "<table border=\"1\" class=\"dataframe\">\n",
       "  <thead>\n",
       "    <tr style=\"text-align: right;\">\n",
       "      <th></th>\n",
       "      <th>TransactionID</th>\n",
       "      <th>isFraud</th>\n",
       "      <th>TransactionDT</th>\n",
       "      <th>TransactionAmt</th>\n",
       "      <th>ProductCD</th>\n",
       "      <th>card1</th>\n",
       "      <th>card2</th>\n",
       "      <th>card3</th>\n",
       "      <th>card4</th>\n",
       "      <th>card5</th>\n",
       "      <th>...</th>\n",
       "      <th>id_31</th>\n",
       "      <th>id_32</th>\n",
       "      <th>id_33</th>\n",
       "      <th>id_34</th>\n",
       "      <th>id_35</th>\n",
       "      <th>id_36</th>\n",
       "      <th>id_37</th>\n",
       "      <th>id_38</th>\n",
       "      <th>DeviceType</th>\n",
       "      <th>DeviceInfo</th>\n",
       "    </tr>\n",
       "  </thead>\n",
       "  <tbody>\n",
       "    <tr>\n",
       "      <th>0</th>\n",
       "      <td>2994681</td>\n",
       "      <td>0</td>\n",
       "      <td>242834</td>\n",
       "      <td>25.000</td>\n",
       "      <td>H</td>\n",
       "      <td>9803</td>\n",
       "      <td>583.0</td>\n",
       "      <td>150.0</td>\n",
       "      <td>visa</td>\n",
       "      <td>226.0</td>\n",
       "      <td>...</td>\n",
       "      <td>firefox 56.0</td>\n",
       "      <td>24.0</td>\n",
       "      <td>1920x1080</td>\n",
       "      <td>match_status:2</td>\n",
       "      <td>T</td>\n",
       "      <td>F</td>\n",
       "      <td>T</td>\n",
       "      <td>T</td>\n",
       "      <td>desktop</td>\n",
       "      <td>rv:56.0</td>\n",
       "    </tr>\n",
       "    <tr>\n",
       "      <th>1</th>\n",
       "      <td>3557242</td>\n",
       "      <td>0</td>\n",
       "      <td>15123000</td>\n",
       "      <td>117.000</td>\n",
       "      <td>W</td>\n",
       "      <td>7919</td>\n",
       "      <td>194.0</td>\n",
       "      <td>150.0</td>\n",
       "      <td>mastercard</td>\n",
       "      <td>166.0</td>\n",
       "      <td>...</td>\n",
       "      <td>NaN</td>\n",
       "      <td>NaN</td>\n",
       "      <td>NaN</td>\n",
       "      <td>NaN</td>\n",
       "      <td>NaN</td>\n",
       "      <td>NaN</td>\n",
       "      <td>NaN</td>\n",
       "      <td>NaN</td>\n",
       "      <td>NaN</td>\n",
       "      <td>NaN</td>\n",
       "    </tr>\n",
       "    <tr>\n",
       "      <th>2</th>\n",
       "      <td>3327470</td>\n",
       "      <td>0</td>\n",
       "      <td>8378575</td>\n",
       "      <td>73.773</td>\n",
       "      <td>C</td>\n",
       "      <td>12778</td>\n",
       "      <td>500.0</td>\n",
       "      <td>185.0</td>\n",
       "      <td>mastercard</td>\n",
       "      <td>224.0</td>\n",
       "      <td>...</td>\n",
       "      <td>NaN</td>\n",
       "      <td>NaN</td>\n",
       "      <td>NaN</td>\n",
       "      <td>NaN</td>\n",
       "      <td>NaN</td>\n",
       "      <td>NaN</td>\n",
       "      <td>NaN</td>\n",
       "      <td>NaN</td>\n",
       "      <td>NaN</td>\n",
       "      <td>NaN</td>\n",
       "    </tr>\n",
       "    <tr>\n",
       "      <th>3</th>\n",
       "      <td>3118781</td>\n",
       "      <td>0</td>\n",
       "      <td>2607840</td>\n",
       "      <td>400.000</td>\n",
       "      <td>R</td>\n",
       "      <td>12316</td>\n",
       "      <td>548.0</td>\n",
       "      <td>150.0</td>\n",
       "      <td>visa</td>\n",
       "      <td>195.0</td>\n",
       "      <td>...</td>\n",
       "      <td>mobile safari generic</td>\n",
       "      <td>32.0</td>\n",
       "      <td>1136x640</td>\n",
       "      <td>match_status:2</td>\n",
       "      <td>T</td>\n",
       "      <td>F</td>\n",
       "      <td>T</td>\n",
       "      <td>F</td>\n",
       "      <td>mobile</td>\n",
       "      <td>iOS Device</td>\n",
       "    </tr>\n",
       "    <tr>\n",
       "      <th>4</th>\n",
       "      <td>3459772</td>\n",
       "      <td>0</td>\n",
       "      <td>12226544</td>\n",
       "      <td>31.950</td>\n",
       "      <td>W</td>\n",
       "      <td>9002</td>\n",
       "      <td>453.0</td>\n",
       "      <td>150.0</td>\n",
       "      <td>visa</td>\n",
       "      <td>226.0</td>\n",
       "      <td>...</td>\n",
       "      <td>NaN</td>\n",
       "      <td>NaN</td>\n",
       "      <td>NaN</td>\n",
       "      <td>NaN</td>\n",
       "      <td>NaN</td>\n",
       "      <td>NaN</td>\n",
       "      <td>NaN</td>\n",
       "      <td>NaN</td>\n",
       "      <td>NaN</td>\n",
       "      <td>NaN</td>\n",
       "    </tr>\n",
       "  </tbody>\n",
       "</table>\n",
       "<p>5 rows × 434 columns</p>\n",
       "</div>"
      ],
      "text/plain": [
       "   TransactionID  isFraud  TransactionDT  TransactionAmt ProductCD  card1  \\\n",
       "0        2994681        0         242834          25.000         H   9803   \n",
       "1        3557242        0       15123000         117.000         W   7919   \n",
       "2        3327470        0        8378575          73.773         C  12778   \n",
       "3        3118781        0        2607840         400.000         R  12316   \n",
       "4        3459772        0       12226544          31.950         W   9002   \n",
       "\n",
       "   card2  card3       card4  card5  ...                  id_31  id_32  \\\n",
       "0  583.0  150.0        visa  226.0  ...           firefox 56.0   24.0   \n",
       "1  194.0  150.0  mastercard  166.0  ...                    NaN    NaN   \n",
       "2  500.0  185.0  mastercard  224.0  ...                    NaN    NaN   \n",
       "3  548.0  150.0        visa  195.0  ...  mobile safari generic   32.0   \n",
       "4  453.0  150.0        visa  226.0  ...                    NaN    NaN   \n",
       "\n",
       "       id_33           id_34  id_35 id_36 id_37  id_38  DeviceType  DeviceInfo  \n",
       "0  1920x1080  match_status:2      T     F     T      T     desktop     rv:56.0  \n",
       "1        NaN             NaN    NaN   NaN   NaN    NaN         NaN         NaN  \n",
       "2        NaN             NaN    NaN   NaN   NaN    NaN         NaN         NaN  \n",
       "3   1136x640  match_status:2      T     F     T      F      mobile  iOS Device  \n",
       "4        NaN             NaN    NaN   NaN   NaN    NaN         NaN         NaN  \n",
       "\n",
       "[5 rows x 434 columns]"
      ]
     },
     "execution_count": 3,
     "metadata": {},
     "output_type": "execute_result"
    }
   ],
   "source": [
    "df.head()"
   ]
  },
  {
   "cell_type": "code",
   "execution_count": 4,
   "id": "49eeb750",
   "metadata": {},
   "outputs": [
    {
     "name": "stdout",
     "output_type": "stream",
     "text": [
      "<class 'pandas.core.frame.DataFrame'>\n",
      "RangeIndex: 59054 entries, 0 to 59053\n",
      "Columns: 434 entries, TransactionID to DeviceInfo\n",
      "dtypes: float64(385), int64(18), object(31)\n",
      "memory usage: 195.5+ MB\n"
     ]
    }
   ],
   "source": [
    "df.info()"
   ]
  },
  {
   "cell_type": "code",
   "execution_count": 5,
   "id": "5f9da062",
   "metadata": {},
   "outputs": [
    {
     "data": {
      "text/html": [
       "<div>\n",
       "<style scoped>\n",
       "    .dataframe tbody tr th:only-of-type {\n",
       "        vertical-align: middle;\n",
       "    }\n",
       "\n",
       "    .dataframe tbody tr th {\n",
       "        vertical-align: top;\n",
       "    }\n",
       "\n",
       "    .dataframe thead th {\n",
       "        text-align: right;\n",
       "    }\n",
       "</style>\n",
       "<table border=\"1\" class=\"dataframe\">\n",
       "  <thead>\n",
       "    <tr style=\"text-align: right;\">\n",
       "      <th></th>\n",
       "      <th>TransactionID</th>\n",
       "      <th>isFraud</th>\n",
       "      <th>TransactionDT</th>\n",
       "      <th>TransactionAmt</th>\n",
       "      <th>card1</th>\n",
       "      <th>card2</th>\n",
       "      <th>card3</th>\n",
       "      <th>card5</th>\n",
       "      <th>addr1</th>\n",
       "      <th>addr2</th>\n",
       "      <th>...</th>\n",
       "      <th>id_17</th>\n",
       "      <th>id_18</th>\n",
       "      <th>id_19</th>\n",
       "      <th>id_20</th>\n",
       "      <th>id_21</th>\n",
       "      <th>id_22</th>\n",
       "      <th>id_24</th>\n",
       "      <th>id_25</th>\n",
       "      <th>id_26</th>\n",
       "      <th>id_32</th>\n",
       "    </tr>\n",
       "  </thead>\n",
       "  <tbody>\n",
       "    <tr>\n",
       "      <th>count</th>\n",
       "      <td>5.905400e+04</td>\n",
       "      <td>59054.000000</td>\n",
       "      <td>5.905400e+04</td>\n",
       "      <td>59054.000000</td>\n",
       "      <td>59054.000000</td>\n",
       "      <td>58139.000000</td>\n",
       "      <td>58896.000000</td>\n",
       "      <td>58610.000000</td>\n",
       "      <td>52326.000000</td>\n",
       "      <td>52326.000000</td>\n",
       "      <td>...</td>\n",
       "      <td>14061.00000</td>\n",
       "      <td>4511.000000</td>\n",
       "      <td>14059.000000</td>\n",
       "      <td>14054.000000</td>\n",
       "      <td>525.000000</td>\n",
       "      <td>525.000000</td>\n",
       "      <td>487.000000</td>\n",
       "      <td>524.000000</td>\n",
       "      <td>525.000000</td>\n",
       "      <td>7715.000000</td>\n",
       "    </tr>\n",
       "    <tr>\n",
       "      <th>mean</th>\n",
       "      <td>3.282166e+06</td>\n",
       "      <td>0.033952</td>\n",
       "      <td>7.368220e+06</td>\n",
       "      <td>134.142888</td>\n",
       "      <td>9910.366360</td>\n",
       "      <td>362.438054</td>\n",
       "      <td>153.264551</td>\n",
       "      <td>199.104231</td>\n",
       "      <td>290.653939</td>\n",
       "      <td>86.806616</td>\n",
       "      <td>...</td>\n",
       "      <td>189.89958</td>\n",
       "      <td>14.238750</td>\n",
       "      <td>351.767622</td>\n",
       "      <td>404.594777</td>\n",
       "      <td>385.257143</td>\n",
       "      <td>15.748571</td>\n",
       "      <td>12.739220</td>\n",
       "      <td>326.225191</td>\n",
       "      <td>148.794286</td>\n",
       "      <td>26.499028</td>\n",
       "    </tr>\n",
       "    <tr>\n",
       "      <th>std</th>\n",
       "      <td>1.702573e+05</td>\n",
       "      <td>0.181107</td>\n",
       "      <td>4.612063e+06</td>\n",
       "      <td>233.112295</td>\n",
       "      <td>4893.704524</td>\n",
       "      <td>157.360648</td>\n",
       "      <td>11.395609</td>\n",
       "      <td>41.296438</td>\n",
       "      <td>101.796538</td>\n",
       "      <td>2.639572</td>\n",
       "      <td>...</td>\n",
       "      <td>30.34787</td>\n",
       "      <td>1.524658</td>\n",
       "      <td>141.600677</td>\n",
       "      <td>152.201538</td>\n",
       "      <td>213.565534</td>\n",
       "      <td>6.496154</td>\n",
       "      <td>2.275238</td>\n",
       "      <td>97.662855</td>\n",
       "      <td>31.168092</td>\n",
       "      <td>3.739140</td>\n",
       "    </tr>\n",
       "    <tr>\n",
       "      <th>min</th>\n",
       "      <td>2.987019e+06</td>\n",
       "      <td>0.000000</td>\n",
       "      <td>8.673000e+04</td>\n",
       "      <td>0.292000</td>\n",
       "      <td>1008.000000</td>\n",
       "      <td>100.000000</td>\n",
       "      <td>100.000000</td>\n",
       "      <td>100.000000</td>\n",
       "      <td>100.000000</td>\n",
       "      <td>13.000000</td>\n",
       "      <td>...</td>\n",
       "      <td>100.00000</td>\n",
       "      <td>11.000000</td>\n",
       "      <td>100.000000</td>\n",
       "      <td>100.000000</td>\n",
       "      <td>114.000000</td>\n",
       "      <td>14.000000</td>\n",
       "      <td>11.000000</td>\n",
       "      <td>100.000000</td>\n",
       "      <td>100.000000</td>\n",
       "      <td>0.000000</td>\n",
       "    </tr>\n",
       "    <tr>\n",
       "      <th>25%</th>\n",
       "      <td>3.135748e+06</td>\n",
       "      <td>0.000000</td>\n",
       "      <td>3.074217e+06</td>\n",
       "      <td>42.950000</td>\n",
       "      <td>6019.000000</td>\n",
       "      <td>215.000000</td>\n",
       "      <td>150.000000</td>\n",
       "      <td>166.000000</td>\n",
       "      <td>204.000000</td>\n",
       "      <td>87.000000</td>\n",
       "      <td>...</td>\n",
       "      <td>166.00000</td>\n",
       "      <td>13.000000</td>\n",
       "      <td>266.000000</td>\n",
       "      <td>256.000000</td>\n",
       "      <td>252.000000</td>\n",
       "      <td>14.000000</td>\n",
       "      <td>11.000000</td>\n",
       "      <td>321.000000</td>\n",
       "      <td>119.000000</td>\n",
       "      <td>24.000000</td>\n",
       "    </tr>\n",
       "    <tr>\n",
       "      <th>50%</th>\n",
       "      <td>3.282062e+06</td>\n",
       "      <td>0.000000</td>\n",
       "      <td>7.288450e+06</td>\n",
       "      <td>68.017000</td>\n",
       "      <td>9749.000000</td>\n",
       "      <td>361.000000</td>\n",
       "      <td>150.000000</td>\n",
       "      <td>226.000000</td>\n",
       "      <td>299.000000</td>\n",
       "      <td>87.000000</td>\n",
       "      <td>...</td>\n",
       "      <td>166.00000</td>\n",
       "      <td>15.000000</td>\n",
       "      <td>339.000000</td>\n",
       "      <td>484.000000</td>\n",
       "      <td>252.000000</td>\n",
       "      <td>14.000000</td>\n",
       "      <td>11.000000</td>\n",
       "      <td>321.000000</td>\n",
       "      <td>147.000000</td>\n",
       "      <td>24.000000</td>\n",
       "    </tr>\n",
       "    <tr>\n",
       "      <th>75%</th>\n",
       "      <td>3.429699e+06</td>\n",
       "      <td>0.000000</td>\n",
       "      <td>1.123918e+07</td>\n",
       "      <td>117.000000</td>\n",
       "      <td>14223.000000</td>\n",
       "      <td>512.000000</td>\n",
       "      <td>150.000000</td>\n",
       "      <td>226.000000</td>\n",
       "      <td>330.000000</td>\n",
       "      <td>87.000000</td>\n",
       "      <td>...</td>\n",
       "      <td>225.00000</td>\n",
       "      <td>15.000000</td>\n",
       "      <td>427.000000</td>\n",
       "      <td>533.000000</td>\n",
       "      <td>554.000000</td>\n",
       "      <td>14.000000</td>\n",
       "      <td>15.000000</td>\n",
       "      <td>361.000000</td>\n",
       "      <td>169.000000</td>\n",
       "      <td>32.000000</td>\n",
       "    </tr>\n",
       "    <tr>\n",
       "      <th>max</th>\n",
       "      <td>3.577536e+06</td>\n",
       "      <td>1.000000</td>\n",
       "      <td>1.581105e+07</td>\n",
       "      <td>5279.950000</td>\n",
       "      <td>18390.000000</td>\n",
       "      <td>600.000000</td>\n",
       "      <td>229.000000</td>\n",
       "      <td>237.000000</td>\n",
       "      <td>536.000000</td>\n",
       "      <td>102.000000</td>\n",
       "      <td>...</td>\n",
       "      <td>225.00000</td>\n",
       "      <td>29.000000</td>\n",
       "      <td>670.000000</td>\n",
       "      <td>660.000000</td>\n",
       "      <td>854.000000</td>\n",
       "      <td>43.000000</td>\n",
       "      <td>24.000000</td>\n",
       "      <td>548.000000</td>\n",
       "      <td>216.000000</td>\n",
       "      <td>32.000000</td>\n",
       "    </tr>\n",
       "  </tbody>\n",
       "</table>\n",
       "<p>8 rows × 403 columns</p>\n",
       "</div>"
      ],
      "text/plain": [
       "       TransactionID       isFraud  TransactionDT  TransactionAmt  \\\n",
       "count   5.905400e+04  59054.000000   5.905400e+04    59054.000000   \n",
       "mean    3.282166e+06      0.033952   7.368220e+06      134.142888   \n",
       "std     1.702573e+05      0.181107   4.612063e+06      233.112295   \n",
       "min     2.987019e+06      0.000000   8.673000e+04        0.292000   \n",
       "25%     3.135748e+06      0.000000   3.074217e+06       42.950000   \n",
       "50%     3.282062e+06      0.000000   7.288450e+06       68.017000   \n",
       "75%     3.429699e+06      0.000000   1.123918e+07      117.000000   \n",
       "max     3.577536e+06      1.000000   1.581105e+07     5279.950000   \n",
       "\n",
       "              card1         card2         card3         card5         addr1  \\\n",
       "count  59054.000000  58139.000000  58896.000000  58610.000000  52326.000000   \n",
       "mean    9910.366360    362.438054    153.264551    199.104231    290.653939   \n",
       "std     4893.704524    157.360648     11.395609     41.296438    101.796538   \n",
       "min     1008.000000    100.000000    100.000000    100.000000    100.000000   \n",
       "25%     6019.000000    215.000000    150.000000    166.000000    204.000000   \n",
       "50%     9749.000000    361.000000    150.000000    226.000000    299.000000   \n",
       "75%    14223.000000    512.000000    150.000000    226.000000    330.000000   \n",
       "max    18390.000000    600.000000    229.000000    237.000000    536.000000   \n",
       "\n",
       "              addr2  ...        id_17        id_18         id_19  \\\n",
       "count  52326.000000  ...  14061.00000  4511.000000  14059.000000   \n",
       "mean      86.806616  ...    189.89958    14.238750    351.767622   \n",
       "std        2.639572  ...     30.34787     1.524658    141.600677   \n",
       "min       13.000000  ...    100.00000    11.000000    100.000000   \n",
       "25%       87.000000  ...    166.00000    13.000000    266.000000   \n",
       "50%       87.000000  ...    166.00000    15.000000    339.000000   \n",
       "75%       87.000000  ...    225.00000    15.000000    427.000000   \n",
       "max      102.000000  ...    225.00000    29.000000    670.000000   \n",
       "\n",
       "              id_20       id_21       id_22       id_24       id_25  \\\n",
       "count  14054.000000  525.000000  525.000000  487.000000  524.000000   \n",
       "mean     404.594777  385.257143   15.748571   12.739220  326.225191   \n",
       "std      152.201538  213.565534    6.496154    2.275238   97.662855   \n",
       "min      100.000000  114.000000   14.000000   11.000000  100.000000   \n",
       "25%      256.000000  252.000000   14.000000   11.000000  321.000000   \n",
       "50%      484.000000  252.000000   14.000000   11.000000  321.000000   \n",
       "75%      533.000000  554.000000   14.000000   15.000000  361.000000   \n",
       "max      660.000000  854.000000   43.000000   24.000000  548.000000   \n",
       "\n",
       "            id_26        id_32  \n",
       "count  525.000000  7715.000000  \n",
       "mean   148.794286    26.499028  \n",
       "std     31.168092     3.739140  \n",
       "min    100.000000     0.000000  \n",
       "25%    119.000000    24.000000  \n",
       "50%    147.000000    24.000000  \n",
       "75%    169.000000    32.000000  \n",
       "max    216.000000    32.000000  \n",
       "\n",
       "[8 rows x 403 columns]"
      ]
     },
     "execution_count": 5,
     "metadata": {},
     "output_type": "execute_result"
    }
   ],
   "source": [
    "df.describe()"
   ]
  },
  {
   "cell_type": "code",
   "execution_count": 6,
   "id": "a529b649",
   "metadata": {},
   "outputs": [
    {
     "data": {
      "text/plain": [
       "0    57049\n",
       "1     2005\n",
       "Name: isFraud, dtype: int64"
      ]
     },
     "execution_count": 6,
     "metadata": {},
     "output_type": "execute_result"
    }
   ],
   "source": [
    "df.isFraud.value_counts()"
   ]
  },
  {
   "cell_type": "code",
   "execution_count": 7,
   "id": "f8b91c5d",
   "metadata": {},
   "outputs": [
    {
     "data": {
      "text/plain": [
       "0    0.966048\n",
       "1    0.033952\n",
       "Name: isFraud, dtype: float64"
      ]
     },
     "execution_count": 7,
     "metadata": {},
     "output_type": "execute_result"
    }
   ],
   "source": [
    "df.isFraud.value_counts(normalize=True)"
   ]
  },
  {
   "cell_type": "code",
   "execution_count": 8,
   "id": "3b45f56d",
   "metadata": {},
   "outputs": [
    {
     "data": {
      "image/png": "[encoded data removed]",
      "text/plain": [
       "<Figure size 640x480 with 1 Axes>"
      ]
     },
     "metadata": {},
     "output_type": "display_data"
    }
   ],
   "source": [
    "sns.countplot(df.isFraud);"
   ]
  },
  {
   "cell_type": "markdown",
   "id": "d51440d1",
   "metadata": {},
   "source": [
    "## checking and dealing with missing values"
   ]
  },
  {
   "cell_type": "code",
   "execution_count": 9,
   "id": "81c48f74",
   "metadata": {},
   "outputs": [
    {
     "data": {
      "text/html": [
       "<div>\n",
       "<style scoped>\n",
       "    .dataframe tbody tr th:only-of-type {\n",
       "        vertical-align: middle;\n",
       "    }\n",
       "\n",
       "    .dataframe tbody tr th {\n",
       "        vertical-align: top;\n",
       "    }\n",
       "\n",
       "    .dataframe thead th {\n",
       "        text-align: right;\n",
       "    }\n",
       "</style>\n",
       "<table border=\"1\" class=\"dataframe\">\n",
       "  <thead>\n",
       "    <tr style=\"text-align: right;\">\n",
       "      <th></th>\n",
       "      <th>missing count</th>\n",
       "      <th>missing percentage</th>\n",
       "    </tr>\n",
       "  </thead>\n",
       "  <tbody>\n",
       "    <tr>\n",
       "      <th>id_24</th>\n",
       "      <td>58567</td>\n",
       "      <td>99.18</td>\n",
       "    </tr>\n",
       "    <tr>\n",
       "      <th>id_25</th>\n",
       "      <td>58530</td>\n",
       "      <td>99.11</td>\n",
       "    </tr>\n",
       "    <tr>\n",
       "      <th>id_26</th>\n",
       "      <td>58529</td>\n",
       "      <td>99.11</td>\n",
       "    </tr>\n",
       "    <tr>\n",
       "      <th>id_21</th>\n",
       "      <td>58529</td>\n",
       "      <td>99.11</td>\n",
       "    </tr>\n",
       "    <tr>\n",
       "      <th>id_22</th>\n",
       "      <td>58529</td>\n",
       "      <td>99.11</td>\n",
       "    </tr>\n",
       "    <tr>\n",
       "      <th>...</th>\n",
       "      <td>...</td>\n",
       "      <td>...</td>\n",
       "    </tr>\n",
       "    <tr>\n",
       "      <th>C3</th>\n",
       "      <td>0</td>\n",
       "      <td>0.00</td>\n",
       "    </tr>\n",
       "    <tr>\n",
       "      <th>C2</th>\n",
       "      <td>0</td>\n",
       "      <td>0.00</td>\n",
       "    </tr>\n",
       "    <tr>\n",
       "      <th>C1</th>\n",
       "      <td>0</td>\n",
       "      <td>0.00</td>\n",
       "    </tr>\n",
       "    <tr>\n",
       "      <th>isFraud</th>\n",
       "      <td>0</td>\n",
       "      <td>0.00</td>\n",
       "    </tr>\n",
       "    <tr>\n",
       "      <th>TransactionID</th>\n",
       "      <td>0</td>\n",
       "      <td>0.00</td>\n",
       "    </tr>\n",
       "  </tbody>\n",
       "</table>\n",
       "<p>434 rows × 2 columns</p>\n",
       "</div>"
      ],
      "text/plain": [
       "               missing count  missing percentage\n",
       "id_24                  58567               99.18\n",
       "id_25                  58530               99.11\n",
       "id_26                  58529               99.11\n",
       "id_21                  58529               99.11\n",
       "id_22                  58529               99.11\n",
       "...                      ...                 ...\n",
       "C3                         0                0.00\n",
       "C2                         0                0.00\n",
       "C1                         0                0.00\n",
       "isFraud                    0                0.00\n",
       "TransactionID              0                0.00\n",
       "\n",
       "[434 rows x 2 columns]"
      ]
     },
     "execution_count": 9,
     "metadata": {},
     "output_type": "execute_result"
    }
   ],
   "source": [
    "mis_count=df.isnull().sum().sort_values(ascending=False)\n",
    "mis_perc=round(mis_count/len(df)*100,2)\n",
    "mis_df=pd.concat([mis_count,mis_perc],axis=1,keys=[\"missing count\",\"missing percentage\"])\n",
    "mis_df"
   ]
  },
  {
   "cell_type": "code",
   "execution_count": 10,
   "id": "16905e4a",
   "metadata": {},
   "outputs": [
    {
     "data": {
      "text/html": [
       "<div>\n",
       "<style scoped>\n",
       "    .dataframe tbody tr th:only-of-type {\n",
       "        vertical-align: middle;\n",
       "    }\n",
       "\n",
       "    .dataframe tbody tr th {\n",
       "        vertical-align: top;\n",
       "    }\n",
       "\n",
       "    .dataframe thead th {\n",
       "        text-align: right;\n",
       "    }\n",
       "</style>\n",
       "<table border=\"1\" class=\"dataframe\">\n",
       "  <thead>\n",
       "    <tr style=\"text-align: right;\">\n",
       "      <th></th>\n",
       "      <th>missing count</th>\n",
       "      <th>missing percentage</th>\n",
       "    </tr>\n",
       "  </thead>\n",
       "  <tbody>\n",
       "    <tr>\n",
       "      <th>id_24</th>\n",
       "      <td>58567</td>\n",
       "      <td>99.18</td>\n",
       "    </tr>\n",
       "    <tr>\n",
       "      <th>id_25</th>\n",
       "      <td>58530</td>\n",
       "      <td>99.11</td>\n",
       "    </tr>\n",
       "    <tr>\n",
       "      <th>id_26</th>\n",
       "      <td>58529</td>\n",
       "      <td>99.11</td>\n",
       "    </tr>\n",
       "    <tr>\n",
       "      <th>id_21</th>\n",
       "      <td>58529</td>\n",
       "      <td>99.11</td>\n",
       "    </tr>\n",
       "    <tr>\n",
       "      <th>id_22</th>\n",
       "      <td>58529</td>\n",
       "      <td>99.11</td>\n",
       "    </tr>\n",
       "    <tr>\n",
       "      <th>...</th>\n",
       "      <td>...</td>\n",
       "      <td>...</td>\n",
       "    </tr>\n",
       "    <tr>\n",
       "      <th>V316</th>\n",
       "      <td>3</td>\n",
       "      <td>0.01</td>\n",
       "    </tr>\n",
       "    <tr>\n",
       "      <th>V317</th>\n",
       "      <td>3</td>\n",
       "      <td>0.01</td>\n",
       "    </tr>\n",
       "    <tr>\n",
       "      <th>V318</th>\n",
       "      <td>3</td>\n",
       "      <td>0.01</td>\n",
       "    </tr>\n",
       "    <tr>\n",
       "      <th>V319</th>\n",
       "      <td>3</td>\n",
       "      <td>0.01</td>\n",
       "    </tr>\n",
       "    <tr>\n",
       "      <th>V310</th>\n",
       "      <td>3</td>\n",
       "      <td>0.01</td>\n",
       "    </tr>\n",
       "  </tbody>\n",
       "</table>\n",
       "<p>414 rows × 2 columns</p>\n",
       "</div>"
      ],
      "text/plain": [
       "       missing count  missing percentage\n",
       "id_24          58567               99.18\n",
       "id_25          58530               99.11\n",
       "id_26          58529               99.11\n",
       "id_21          58529               99.11\n",
       "id_22          58529               99.11\n",
       "...              ...                 ...\n",
       "V316               3                0.01\n",
       "V317               3                0.01\n",
       "V318               3                0.01\n",
       "V319               3                0.01\n",
       "V310               3                0.01\n",
       "\n",
       "[414 rows x 2 columns]"
      ]
     },
     "execution_count": 10,
     "metadata": {},
     "output_type": "execute_result"
    }
   ],
   "source": [
    "mis_df[mis_df[\"missing count\"]!=0]"
   ]
  },
  {
   "cell_type": "markdown",
   "id": "4ad04a40",
   "metadata": {},
   "source": [
    "### we will delete those columns where missing percentage > 20%"
   ]
  },
  {
   "cell_type": "code",
   "execution_count": 11,
   "id": "0feeddc9",
   "metadata": {},
   "outputs": [
    {
     "data": {
      "text/html": [
       "<div>\n",
       "<style scoped>\n",
       "    .dataframe tbody tr th:only-of-type {\n",
       "        vertical-align: middle;\n",
       "    }\n",
       "\n",
       "    .dataframe tbody tr th {\n",
       "        vertical-align: top;\n",
       "    }\n",
       "\n",
       "    .dataframe thead th {\n",
       "        text-align: right;\n",
       "    }\n",
       "</style>\n",
       "<table border=\"1\" class=\"dataframe\">\n",
       "  <thead>\n",
       "    <tr style=\"text-align: right;\">\n",
       "      <th></th>\n",
       "      <th>TransactionID</th>\n",
       "      <th>isFraud</th>\n",
       "      <th>TransactionDT</th>\n",
       "      <th>TransactionAmt</th>\n",
       "      <th>ProductCD</th>\n",
       "      <th>card1</th>\n",
       "      <th>card2</th>\n",
       "      <th>card3</th>\n",
       "      <th>card4</th>\n",
       "      <th>card5</th>\n",
       "      <th>...</th>\n",
       "      <th>V312</th>\n",
       "      <th>V313</th>\n",
       "      <th>V314</th>\n",
       "      <th>V315</th>\n",
       "      <th>V316</th>\n",
       "      <th>V317</th>\n",
       "      <th>V318</th>\n",
       "      <th>V319</th>\n",
       "      <th>V320</th>\n",
       "      <th>V321</th>\n",
       "    </tr>\n",
       "  </thead>\n",
       "  <tbody>\n",
       "    <tr>\n",
       "      <th>0</th>\n",
       "      <td>2994681</td>\n",
       "      <td>0</td>\n",
       "      <td>242834</td>\n",
       "      <td>25.000</td>\n",
       "      <td>H</td>\n",
       "      <td>9803</td>\n",
       "      <td>583.0</td>\n",
       "      <td>150.0</td>\n",
       "      <td>visa</td>\n",
       "      <td>226.0</td>\n",
       "      <td>...</td>\n",
       "      <td>0.000000</td>\n",
       "      <td>0.000000</td>\n",
       "      <td>0.000000</td>\n",
       "      <td>0.000000</td>\n",
       "      <td>0.000000</td>\n",
       "      <td>0.000000</td>\n",
       "      <td>0.000000</td>\n",
       "      <td>0.0</td>\n",
       "      <td>0.0</td>\n",
       "      <td>0.0</td>\n",
       "    </tr>\n",
       "    <tr>\n",
       "      <th>1</th>\n",
       "      <td>3557242</td>\n",
       "      <td>0</td>\n",
       "      <td>15123000</td>\n",
       "      <td>117.000</td>\n",
       "      <td>W</td>\n",
       "      <td>7919</td>\n",
       "      <td>194.0</td>\n",
       "      <td>150.0</td>\n",
       "      <td>mastercard</td>\n",
       "      <td>166.0</td>\n",
       "      <td>...</td>\n",
       "      <td>234.000000</td>\n",
       "      <td>0.000000</td>\n",
       "      <td>225.500000</td>\n",
       "      <td>0.000000</td>\n",
       "      <td>288.000000</td>\n",
       "      <td>1707.000000</td>\n",
       "      <td>1707.000000</td>\n",
       "      <td>0.0</td>\n",
       "      <td>0.0</td>\n",
       "      <td>0.0</td>\n",
       "    </tr>\n",
       "    <tr>\n",
       "      <th>2</th>\n",
       "      <td>3327470</td>\n",
       "      <td>0</td>\n",
       "      <td>8378575</td>\n",
       "      <td>73.773</td>\n",
       "      <td>C</td>\n",
       "      <td>12778</td>\n",
       "      <td>500.0</td>\n",
       "      <td>185.0</td>\n",
       "      <td>mastercard</td>\n",
       "      <td>224.0</td>\n",
       "      <td>...</td>\n",
       "      <td>0.000000</td>\n",
       "      <td>0.000000</td>\n",
       "      <td>73.772797</td>\n",
       "      <td>0.000000</td>\n",
       "      <td>0.000000</td>\n",
       "      <td>0.000000</td>\n",
       "      <td>0.000000</td>\n",
       "      <td>0.0</td>\n",
       "      <td>0.0</td>\n",
       "      <td>0.0</td>\n",
       "    </tr>\n",
       "    <tr>\n",
       "      <th>3</th>\n",
       "      <td>3118781</td>\n",
       "      <td>0</td>\n",
       "      <td>2607840</td>\n",
       "      <td>400.000</td>\n",
       "      <td>R</td>\n",
       "      <td>12316</td>\n",
       "      <td>548.0</td>\n",
       "      <td>150.0</td>\n",
       "      <td>visa</td>\n",
       "      <td>195.0</td>\n",
       "      <td>...</td>\n",
       "      <td>0.000000</td>\n",
       "      <td>0.000000</td>\n",
       "      <td>0.000000</td>\n",
       "      <td>0.000000</td>\n",
       "      <td>0.000000</td>\n",
       "      <td>0.000000</td>\n",
       "      <td>0.000000</td>\n",
       "      <td>0.0</td>\n",
       "      <td>0.0</td>\n",
       "      <td>0.0</td>\n",
       "    </tr>\n",
       "    <tr>\n",
       "      <th>4</th>\n",
       "      <td>3459772</td>\n",
       "      <td>0</td>\n",
       "      <td>12226544</td>\n",
       "      <td>31.950</td>\n",
       "      <td>W</td>\n",
       "      <td>9002</td>\n",
       "      <td>453.0</td>\n",
       "      <td>150.0</td>\n",
       "      <td>visa</td>\n",
       "      <td>226.0</td>\n",
       "      <td>...</td>\n",
       "      <td>0.000000</td>\n",
       "      <td>0.000000</td>\n",
       "      <td>99.900002</td>\n",
       "      <td>0.000000</td>\n",
       "      <td>0.000000</td>\n",
       "      <td>0.000000</td>\n",
       "      <td>0.000000</td>\n",
       "      <td>0.0</td>\n",
       "      <td>0.0</td>\n",
       "      <td>0.0</td>\n",
       "    </tr>\n",
       "    <tr>\n",
       "      <th>...</th>\n",
       "      <td>...</td>\n",
       "      <td>...</td>\n",
       "      <td>...</td>\n",
       "      <td>...</td>\n",
       "      <td>...</td>\n",
       "      <td>...</td>\n",
       "      <td>...</td>\n",
       "      <td>...</td>\n",
       "      <td>...</td>\n",
       "      <td>...</td>\n",
       "      <td>...</td>\n",
       "      <td>...</td>\n",
       "      <td>...</td>\n",
       "      <td>...</td>\n",
       "      <td>...</td>\n",
       "      <td>...</td>\n",
       "      <td>...</td>\n",
       "      <td>...</td>\n",
       "      <td>...</td>\n",
       "      <td>...</td>\n",
       "      <td>...</td>\n",
       "    </tr>\n",
       "    <tr>\n",
       "      <th>59049</th>\n",
       "      <td>3549150</td>\n",
       "      <td>0</td>\n",
       "      <td>14898396</td>\n",
       "      <td>335.000</td>\n",
       "      <td>W</td>\n",
       "      <td>2616</td>\n",
       "      <td>327.0</td>\n",
       "      <td>150.0</td>\n",
       "      <td>discover</td>\n",
       "      <td>102.0</td>\n",
       "      <td>...</td>\n",
       "      <td>0.000000</td>\n",
       "      <td>0.000000</td>\n",
       "      <td>0.000000</td>\n",
       "      <td>0.000000</td>\n",
       "      <td>0.000000</td>\n",
       "      <td>0.000000</td>\n",
       "      <td>0.000000</td>\n",
       "      <td>0.0</td>\n",
       "      <td>0.0</td>\n",
       "      <td>0.0</td>\n",
       "    </tr>\n",
       "    <tr>\n",
       "      <th>59050</th>\n",
       "      <td>3497600</td>\n",
       "      <td>0</td>\n",
       "      <td>13371647</td>\n",
       "      <td>20.950</td>\n",
       "      <td>W</td>\n",
       "      <td>3277</td>\n",
       "      <td>111.0</td>\n",
       "      <td>150.0</td>\n",
       "      <td>visa</td>\n",
       "      <td>226.0</td>\n",
       "      <td>...</td>\n",
       "      <td>47.950001</td>\n",
       "      <td>47.950001</td>\n",
       "      <td>138.850006</td>\n",
       "      <td>47.950001</td>\n",
       "      <td>0.000000</td>\n",
       "      <td>0.000000</td>\n",
       "      <td>0.000000</td>\n",
       "      <td>0.0</td>\n",
       "      <td>0.0</td>\n",
       "      <td>0.0</td>\n",
       "    </tr>\n",
       "    <tr>\n",
       "      <th>59051</th>\n",
       "      <td>3575755</td>\n",
       "      <td>0</td>\n",
       "      <td>15775109</td>\n",
       "      <td>59.000</td>\n",
       "      <td>W</td>\n",
       "      <td>9486</td>\n",
       "      <td>127.0</td>\n",
       "      <td>150.0</td>\n",
       "      <td>mastercard</td>\n",
       "      <td>224.0</td>\n",
       "      <td>...</td>\n",
       "      <td>0.000000</td>\n",
       "      <td>49.000000</td>\n",
       "      <td>49.000000</td>\n",
       "      <td>49.000000</td>\n",
       "      <td>0.000000</td>\n",
       "      <td>0.000000</td>\n",
       "      <td>0.000000</td>\n",
       "      <td>0.0</td>\n",
       "      <td>0.0</td>\n",
       "      <td>0.0</td>\n",
       "    </tr>\n",
       "    <tr>\n",
       "      <th>59052</th>\n",
       "      <td>3521246</td>\n",
       "      <td>0</td>\n",
       "      <td>14071016</td>\n",
       "      <td>25.950</td>\n",
       "      <td>W</td>\n",
       "      <td>2392</td>\n",
       "      <td>360.0</td>\n",
       "      <td>150.0</td>\n",
       "      <td>mastercard</td>\n",
       "      <td>126.0</td>\n",
       "      <td>...</td>\n",
       "      <td>25.950001</td>\n",
       "      <td>25.950001</td>\n",
       "      <td>25.950001</td>\n",
       "      <td>25.950001</td>\n",
       "      <td>51.900002</td>\n",
       "      <td>51.900002</td>\n",
       "      <td>51.900002</td>\n",
       "      <td>0.0</td>\n",
       "      <td>0.0</td>\n",
       "      <td>0.0</td>\n",
       "    </tr>\n",
       "    <tr>\n",
       "      <th>59053</th>\n",
       "      <td>3483662</td>\n",
       "      <td>0</td>\n",
       "      <td>13012549</td>\n",
       "      <td>59.000</td>\n",
       "      <td>W</td>\n",
       "      <td>10112</td>\n",
       "      <td>360.0</td>\n",
       "      <td>150.0</td>\n",
       "      <td>visa</td>\n",
       "      <td>166.0</td>\n",
       "      <td>...</td>\n",
       "      <td>0.000000</td>\n",
       "      <td>0.000000</td>\n",
       "      <td>0.000000</td>\n",
       "      <td>0.000000</td>\n",
       "      <td>0.000000</td>\n",
       "      <td>0.000000</td>\n",
       "      <td>0.000000</td>\n",
       "      <td>0.0</td>\n",
       "      <td>0.0</td>\n",
       "      <td>0.0</td>\n",
       "    </tr>\n",
       "  </tbody>\n",
       "</table>\n",
       "<p>59054 rows × 182 columns</p>\n",
       "</div>"
      ],
      "text/plain": [
       "       TransactionID  isFraud  TransactionDT  TransactionAmt ProductCD  card1  \\\n",
       "0            2994681        0         242834          25.000         H   9803   \n",
       "1            3557242        0       15123000         117.000         W   7919   \n",
       "2            3327470        0        8378575          73.773         C  12778   \n",
       "3            3118781        0        2607840         400.000         R  12316   \n",
       "4            3459772        0       12226544          31.950         W   9002   \n",
       "...              ...      ...            ...             ...       ...    ...   \n",
       "59049        3549150        0       14898396         335.000         W   2616   \n",
       "59050        3497600        0       13371647          20.950         W   3277   \n",
       "59051        3575755        0       15775109          59.000         W   9486   \n",
       "59052        3521246        0       14071016          25.950         W   2392   \n",
       "59053        3483662        0       13012549          59.000         W  10112   \n",
       "\n",
       "       card2  card3       card4  card5  ...        V312       V313  \\\n",
       "0      583.0  150.0        visa  226.0  ...    0.000000   0.000000   \n",
       "1      194.0  150.0  mastercard  166.0  ...  234.000000   0.000000   \n",
       "2      500.0  185.0  mastercard  224.0  ...    0.000000   0.000000   \n",
       "3      548.0  150.0        visa  195.0  ...    0.000000   0.000000   \n",
       "4      453.0  150.0        visa  226.0  ...    0.000000   0.000000   \n",
       "...      ...    ...         ...    ...  ...         ...        ...   \n",
       "59049  327.0  150.0    discover  102.0  ...    0.000000   0.000000   \n",
       "59050  111.0  150.0        visa  226.0  ...   47.950001  47.950001   \n",
       "59051  127.0  150.0  mastercard  224.0  ...    0.000000  49.000000   \n",
       "59052  360.0  150.0  mastercard  126.0  ...   25.950001  25.950001   \n",
       "59053  360.0  150.0        visa  166.0  ...    0.000000   0.000000   \n",
       "\n",
       "             V314       V315        V316         V317         V318  V319  \\\n",
       "0        0.000000   0.000000    0.000000     0.000000     0.000000   0.0   \n",
       "1      225.500000   0.000000  288.000000  1707.000000  1707.000000   0.0   \n",
       "2       73.772797   0.000000    0.000000     0.000000     0.000000   0.0   \n",
       "3        0.000000   0.000000    0.000000     0.000000     0.000000   0.0   \n",
       "4       99.900002   0.000000    0.000000     0.000000     0.000000   0.0   \n",
       "...           ...        ...         ...          ...          ...   ...   \n",
       "59049    0.000000   0.000000    0.000000     0.000000     0.000000   0.0   \n",
       "59050  138.850006  47.950001    0.000000     0.000000     0.000000   0.0   \n",
       "59051   49.000000  49.000000    0.000000     0.000000     0.000000   0.0   \n",
       "59052   25.950001  25.950001   51.900002    51.900002    51.900002   0.0   \n",
       "59053    0.000000   0.000000    0.000000     0.000000     0.000000   0.0   \n",
       "\n",
       "       V320  V321  \n",
       "0       0.0   0.0  \n",
       "1       0.0   0.0  \n",
       "2       0.0   0.0  \n",
       "3       0.0   0.0  \n",
       "4       0.0   0.0  \n",
       "...     ...   ...  \n",
       "59049   0.0   0.0  \n",
       "59050   0.0   0.0  \n",
       "59051   0.0   0.0  \n",
       "59052   0.0   0.0  \n",
       "59053   0.0   0.0  \n",
       "\n",
       "[59054 rows x 182 columns]"
      ]
     },
     "execution_count": 11,
     "metadata": {},
     "output_type": "execute_result"
    }
   ],
   "source": [
    "data=df.copy()\n",
    "data=data[df.columns[df.isnull().mean()<0.2]]\n",
    "data"
   ]
  },
  {
   "cell_type": "markdown",
   "id": "157f4431",
   "metadata": {},
   "source": [
    "### Filling numerical features with mean"
   ]
  },
  {
   "cell_type": "code",
   "execution_count": 12,
   "id": "33773c8c",
   "metadata": {},
   "outputs": [
    {
     "data": {
      "text/plain": [
       "Index(['TransactionID', 'isFraud', 'TransactionDT', 'TransactionAmt', 'card1',\n",
       "       'card2', 'card3', 'card5', 'addr1', 'addr2',\n",
       "       ...\n",
       "       'V312', 'V313', 'V314', 'V315', 'V316', 'V317', 'V318', 'V319', 'V320',\n",
       "       'V321'],\n",
       "      dtype='object', length=178)"
      ]
     },
     "execution_count": 12,
     "metadata": {},
     "output_type": "execute_result"
    }
   ],
   "source": [
    "num_cols=data.select_dtypes(include=np.number).columns\n",
    "num_cols"
   ]
  },
  {
   "cell_type": "code",
   "execution_count": 13,
   "id": "3d689ba9",
   "metadata": {},
   "outputs": [],
   "source": [
    "data[num_cols]=data[num_cols].fillna(data[num_cols].mean())"
   ]
  },
  {
   "cell_type": "code",
   "execution_count": 14,
   "id": "03e21501",
   "metadata": {},
   "outputs": [
    {
     "data": {
      "text/plain": [
       "TransactionID     0.0\n",
       "isFraud           0.0\n",
       "TransactionDT     0.0\n",
       "TransactionAmt    0.0\n",
       "card1             0.0\n",
       "                 ... \n",
       "V317              0.0\n",
       "V318              0.0\n",
       "V319              0.0\n",
       "V320              0.0\n",
       "V321              0.0\n",
       "Length: 178, dtype: float64"
      ]
     },
     "execution_count": 14,
     "metadata": {},
     "output_type": "execute_result"
    }
   ],
   "source": [
    "data[num_cols].isnull().mean()"
   ]
  },
  {
   "cell_type": "markdown",
   "id": "bc2951a0",
   "metadata": {},
   "source": [
    "### Filling categorical features with mode"
   ]
  },
  {
   "cell_type": "code",
   "execution_count": 15,
   "id": "390263b5",
   "metadata": {},
   "outputs": [
    {
     "data": {
      "text/plain": [
       "Index(['ProductCD', 'card4', 'card6', 'P_emaildomain'], dtype='object')"
      ]
     },
     "execution_count": 15,
     "metadata": {},
     "output_type": "execute_result"
    }
   ],
   "source": [
    "cat_cols=data.select_dtypes(include=\"object\").columns\n",
    "cat_cols"
   ]
  },
  {
   "cell_type": "code",
   "execution_count": 16,
   "id": "f5b4c598",
   "metadata": {},
   "outputs": [],
   "source": [
    "data[cat_cols]=data[cat_cols].fillna(data[cat_cols].mode().iloc[0])"
   ]
  },
  {
   "cell_type": "code",
   "execution_count": 17,
   "id": "882b8c2e",
   "metadata": {},
   "outputs": [
    {
     "data": {
      "text/plain": [
       "ProductCD        0\n",
       "card4            0\n",
       "card6            0\n",
       "P_emaildomain    0\n",
       "dtype: int64"
      ]
     },
     "execution_count": 17,
     "metadata": {},
     "output_type": "execute_result"
    }
   ],
   "source": [
    "data[cat_cols].isnull().sum()"
   ]
  },
  {
   "cell_type": "markdown",
   "id": "2f23a88b",
   "metadata": {},
   "source": [
    "## Creating dummies for categorical features"
   ]
  },
  {
   "cell_type": "code",
   "execution_count": 18,
   "id": "c76cb6e0",
   "metadata": {},
   "outputs": [],
   "source": [
    "data=pd.get_dummies(data,columns=cat_cols)"
   ]
  },
  {
   "cell_type": "code",
   "execution_count": 19,
   "id": "0586749d",
   "metadata": {},
   "outputs": [
    {
     "data": {
      "text/html": [
       "<div>\n",
       "<style scoped>\n",
       "    .dataframe tbody tr th:only-of-type {\n",
       "        vertical-align: middle;\n",
       "    }\n",
       "\n",
       "    .dataframe tbody tr th {\n",
       "        vertical-align: top;\n",
       "    }\n",
       "\n",
       "    .dataframe thead th {\n",
       "        text-align: right;\n",
       "    }\n",
       "</style>\n",
       "<table border=\"1\" class=\"dataframe\">\n",
       "  <thead>\n",
       "    <tr style=\"text-align: right;\">\n",
       "      <th></th>\n",
       "      <th>TransactionID</th>\n",
       "      <th>isFraud</th>\n",
       "      <th>TransactionDT</th>\n",
       "      <th>TransactionAmt</th>\n",
       "      <th>card1</th>\n",
       "      <th>card2</th>\n",
       "      <th>card3</th>\n",
       "      <th>card5</th>\n",
       "      <th>addr1</th>\n",
       "      <th>addr2</th>\n",
       "      <th>...</th>\n",
       "      <th>P_emaildomain_web.de</th>\n",
       "      <th>P_emaildomain_windstream.net</th>\n",
       "      <th>P_emaildomain_yahoo.co.jp</th>\n",
       "      <th>P_emaildomain_yahoo.co.uk</th>\n",
       "      <th>P_emaildomain_yahoo.com</th>\n",
       "      <th>P_emaildomain_yahoo.com.mx</th>\n",
       "      <th>P_emaildomain_yahoo.de</th>\n",
       "      <th>P_emaildomain_yahoo.es</th>\n",
       "      <th>P_emaildomain_yahoo.fr</th>\n",
       "      <th>P_emaildomain_ymail.com</th>\n",
       "    </tr>\n",
       "  </thead>\n",
       "  <tbody>\n",
       "    <tr>\n",
       "      <th>0</th>\n",
       "      <td>2994681</td>\n",
       "      <td>0</td>\n",
       "      <td>242834</td>\n",
       "      <td>25.000</td>\n",
       "      <td>9803</td>\n",
       "      <td>583.0</td>\n",
       "      <td>150.0</td>\n",
       "      <td>226.0</td>\n",
       "      <td>269.0</td>\n",
       "      <td>87.0</td>\n",
       "      <td>...</td>\n",
       "      <td>0</td>\n",
       "      <td>0</td>\n",
       "      <td>0</td>\n",
       "      <td>0</td>\n",
       "      <td>1</td>\n",
       "      <td>0</td>\n",
       "      <td>0</td>\n",
       "      <td>0</td>\n",
       "      <td>0</td>\n",
       "      <td>0</td>\n",
       "    </tr>\n",
       "    <tr>\n",
       "      <th>1</th>\n",
       "      <td>3557242</td>\n",
       "      <td>0</td>\n",
       "      <td>15123000</td>\n",
       "      <td>117.000</td>\n",
       "      <td>7919</td>\n",
       "      <td>194.0</td>\n",
       "      <td>150.0</td>\n",
       "      <td>166.0</td>\n",
       "      <td>181.0</td>\n",
       "      <td>87.0</td>\n",
       "      <td>...</td>\n",
       "      <td>0</td>\n",
       "      <td>0</td>\n",
       "      <td>0</td>\n",
       "      <td>0</td>\n",
       "      <td>0</td>\n",
       "      <td>0</td>\n",
       "      <td>0</td>\n",
       "      <td>0</td>\n",
       "      <td>0</td>\n",
       "      <td>0</td>\n",
       "    </tr>\n",
       "    <tr>\n",
       "      <th>2</th>\n",
       "      <td>3327470</td>\n",
       "      <td>0</td>\n",
       "      <td>8378575</td>\n",
       "      <td>73.773</td>\n",
       "      <td>12778</td>\n",
       "      <td>500.0</td>\n",
       "      <td>185.0</td>\n",
       "      <td>224.0</td>\n",
       "      <td>284.0</td>\n",
       "      <td>60.0</td>\n",
       "      <td>...</td>\n",
       "      <td>0</td>\n",
       "      <td>0</td>\n",
       "      <td>0</td>\n",
       "      <td>0</td>\n",
       "      <td>0</td>\n",
       "      <td>0</td>\n",
       "      <td>0</td>\n",
       "      <td>0</td>\n",
       "      <td>0</td>\n",
       "      <td>0</td>\n",
       "    </tr>\n",
       "    <tr>\n",
       "      <th>3</th>\n",
       "      <td>3118781</td>\n",
       "      <td>0</td>\n",
       "      <td>2607840</td>\n",
       "      <td>400.000</td>\n",
       "      <td>12316</td>\n",
       "      <td>548.0</td>\n",
       "      <td>150.0</td>\n",
       "      <td>195.0</td>\n",
       "      <td>441.0</td>\n",
       "      <td>87.0</td>\n",
       "      <td>...</td>\n",
       "      <td>0</td>\n",
       "      <td>0</td>\n",
       "      <td>0</td>\n",
       "      <td>0</td>\n",
       "      <td>0</td>\n",
       "      <td>0</td>\n",
       "      <td>0</td>\n",
       "      <td>0</td>\n",
       "      <td>0</td>\n",
       "      <td>0</td>\n",
       "    </tr>\n",
       "    <tr>\n",
       "      <th>4</th>\n",
       "      <td>3459772</td>\n",
       "      <td>0</td>\n",
       "      <td>12226544</td>\n",
       "      <td>31.950</td>\n",
       "      <td>9002</td>\n",
       "      <td>453.0</td>\n",
       "      <td>150.0</td>\n",
       "      <td>226.0</td>\n",
       "      <td>264.0</td>\n",
       "      <td>87.0</td>\n",
       "      <td>...</td>\n",
       "      <td>0</td>\n",
       "      <td>0</td>\n",
       "      <td>0</td>\n",
       "      <td>0</td>\n",
       "      <td>1</td>\n",
       "      <td>0</td>\n",
       "      <td>0</td>\n",
       "      <td>0</td>\n",
       "      <td>0</td>\n",
       "      <td>0</td>\n",
       "    </tr>\n",
       "  </tbody>\n",
       "</table>\n",
       "<p>5 rows × 250 columns</p>\n",
       "</div>"
      ],
      "text/plain": [
       "   TransactionID  isFraud  TransactionDT  TransactionAmt  card1  card2  card3  \\\n",
       "0        2994681        0         242834          25.000   9803  583.0  150.0   \n",
       "1        3557242        0       15123000         117.000   7919  194.0  150.0   \n",
       "2        3327470        0        8378575          73.773  12778  500.0  185.0   \n",
       "3        3118781        0        2607840         400.000  12316  548.0  150.0   \n",
       "4        3459772        0       12226544          31.950   9002  453.0  150.0   \n",
       "\n",
       "   card5  addr1  addr2  ...  P_emaildomain_web.de  \\\n",
       "0  226.0  269.0   87.0  ...                     0   \n",
       "1  166.0  181.0   87.0  ...                     0   \n",
       "2  224.0  284.0   60.0  ...                     0   \n",
       "3  195.0  441.0   87.0  ...                     0   \n",
       "4  226.0  264.0   87.0  ...                     0   \n",
       "\n",
       "   P_emaildomain_windstream.net  P_emaildomain_yahoo.co.jp  \\\n",
       "0                             0                          0   \n",
       "1                             0                          0   \n",
       "2                             0                          0   \n",
       "3                             0                          0   \n",
       "4                             0                          0   \n",
       "\n",
       "   P_emaildomain_yahoo.co.uk  P_emaildomain_yahoo.com  \\\n",
       "0                          0                        1   \n",
       "1                          0                        0   \n",
       "2                          0                        0   \n",
       "3                          0                        0   \n",
       "4                          0                        1   \n",
       "\n",
       "   P_emaildomain_yahoo.com.mx  P_emaildomain_yahoo.de  P_emaildomain_yahoo.es  \\\n",
       "0                           0                       0                       0   \n",
       "1                           0                       0                       0   \n",
       "2                           0                       0                       0   \n",
       "3                           0                       0                       0   \n",
       "4                           0                       0                       0   \n",
       "\n",
       "   P_emaildomain_yahoo.fr  P_emaildomain_ymail.com  \n",
       "0                       0                        0  \n",
       "1                       0                        0  \n",
       "2                       0                        0  \n",
       "3                       0                        0  \n",
       "4                       0                        0  \n",
       "\n",
       "[5 rows x 250 columns]"
      ]
     },
     "execution_count": 19,
     "metadata": {},
     "output_type": "execute_result"
    }
   ],
   "source": [
    "data.head()"
   ]
  },
  {
   "cell_type": "markdown",
   "id": "24fae00d",
   "metadata": {},
   "source": [
    "### separating input and output features"
   ]
  },
  {
   "cell_type": "code",
   "execution_count": 20,
   "id": "99f0e85e",
   "metadata": {},
   "outputs": [],
   "source": [
    "x=data.drop(columns=[\"isFraud\"])\n",
    "y=data.isFraud"
   ]
  },
  {
   "cell_type": "code",
   "execution_count": 21,
   "id": "f0003fc0",
   "metadata": {},
   "outputs": [],
   "source": [
    "from sklearn.model_selection import train_test_split\n",
    "x_train,x_test,y_train,y_test=train_test_split(x,y,test_size=0.3,random_state=123)"
   ]
  },
  {
   "cell_type": "markdown",
   "id": "6fdbe033",
   "metadata": {},
   "source": [
    "## Dealing with imbalance data"
   ]
  },
  {
   "cell_type": "code",
   "execution_count": 22,
   "id": "86358728",
   "metadata": {},
   "outputs": [
    {
     "data": {
      "text/plain": [
       "0    39944\n",
       "1     1393\n",
       "Name: isFraud, dtype: int64"
      ]
     },
     "execution_count": 22,
     "metadata": {},
     "output_type": "execute_result"
    }
   ],
   "source": [
    "y_train.value_counts()"
   ]
  },
  {
   "cell_type": "code",
   "execution_count": 23,
   "id": "8a696ba7",
   "metadata": {},
   "outputs": [],
   "source": [
    "from imblearn.over_sampling import SMOTE\n",
    "sm=SMOTE(random_state=25,sampling_strategy=1.0)"
   ]
  },
  {
   "cell_type": "code",
   "execution_count": 24,
   "id": "26bfdf43",
   "metadata": {},
   "outputs": [],
   "source": [
    "X_train,Y_train=sm.fit_resample(x_train,y_train)"
   ]
  },
  {
   "cell_type": "code",
   "execution_count": 25,
   "id": "0f89ccbc",
   "metadata": {},
   "outputs": [
    {
     "data": {
      "text/plain": [
       "0    39944\n",
       "1    39944\n",
       "Name: isFraud, dtype: int64"
      ]
     },
     "execution_count": 25,
     "metadata": {},
     "output_type": "execute_result"
    }
   ],
   "source": [
    "Y_train.value_counts()"
   ]
  },
  {
   "cell_type": "markdown",
   "id": "e160b374",
   "metadata": {},
   "source": [
    "## Using Random Forest Classifier"
   ]
  },
  {
   "cell_type": "code",
   "execution_count": 26,
   "id": "68dcd3c5",
   "metadata": {},
   "outputs": [],
   "source": [
    "from sklearn.ensemble import RandomForestClassifier\n",
    "\n",
    "#BaseLine Model\n",
    "model=RandomForestClassifier()"
   ]
  },
  {
   "cell_type": "code",
   "execution_count": 27,
   "id": "d1fa0417",
   "metadata": {},
   "outputs": [
    {
     "data": {
      "text/plain": [
       "0.9752215386352091"
      ]
     },
     "execution_count": 27,
     "metadata": {},
     "output_type": "execute_result"
    }
   ],
   "source": [
    "model.fit(X_train,Y_train)\n",
    "model.score(x_test,y_test)"
   ]
  },
  {
   "cell_type": "markdown",
   "id": "585bc298",
   "metadata": {},
   "source": [
    "## Feature Selection"
   ]
  },
  {
   "cell_type": "code",
   "execution_count": 28,
   "id": "947ac196",
   "metadata": {},
   "outputs": [],
   "source": [
    "from sklearn.feature_selection import SelectKBest,f_classif\n",
    "selector=SelectKBest(f_classif,k=10)"
   ]
  },
  {
   "cell_type": "code",
   "execution_count": 29,
   "id": "f2647097",
   "metadata": {},
   "outputs": [],
   "source": [
    "x_new=selector.fit_transform(x,y)"
   ]
  },
  {
   "cell_type": "code",
   "execution_count": 30,
   "id": "c08ef4fb",
   "metadata": {},
   "outputs": [],
   "source": [
    "from sklearn.model_selection import train_test_split"
   ]
  },
  {
   "cell_type": "code",
   "execution_count": 31,
   "id": "ed827225",
   "metadata": {},
   "outputs": [],
   "source": [
    "x_train_new,x_test_new,y_train_new,y_test_new=train_test_split(x_new,y,test_size=0.3,random_state=42)"
   ]
  },
  {
   "cell_type": "code",
   "execution_count": 32,
   "id": "4cd46b89",
   "metadata": {},
   "outputs": [
    {
     "data": {
      "text/plain": [
       "0.9687870406953774"
      ]
     },
     "execution_count": 32,
     "metadata": {},
     "output_type": "execute_result"
    }
   ],
   "source": [
    "model.fit(x_train_new,y_train_new)\n",
    "model.score(x_test_new,y_test_new)"
   ]
  },
  {
   "cell_type": "code",
   "execution_count": 33,
   "id": "5293211e",
   "metadata": {},
   "outputs": [],
   "source": [
    "#here our accuracy decreased by apprx. 0.7% but we are able to achieve it by only using 10 features instead of 250.Since our aim\n",
    "#is not only to increase performance but also to decrease our computational cost."
   ]
  },
  {
   "cell_type": "markdown",
   "id": "93693335",
   "metadata": {},
   "source": [
    "## Cross Validation"
   ]
  },
  {
   "cell_type": "code",
   "execution_count": 34,
   "id": "d9116b7b",
   "metadata": {},
   "outputs": [
    {
     "data": {
      "text/plain": [
       "{'fit_time': array([1.28764534, 1.56723762, 1.55197525, 1.34339404, 1.24970818,\n",
       "        1.53240848, 1.56213212, 1.31214881, 1.20284343, 1.53085351]),\n",
       " 'score_time': array([0.0543201 , 0.05585647, 0.06252623, 0.04685807, 0.04691744,\n",
       "        0.06248474, 0.06253028, 0.06248331, 0.04690695, 0.06248236]),\n",
       " 'test_accuracy': array([0.96884524, 0.96901456, 0.96918388, 0.96833728, 0.96765453,\n",
       "        0.96900931, 0.96799323, 0.96850127, 0.96985605, 0.96900931]),\n",
       " 'test_precision': array([0.79310345, 0.82142857, 0.77142857, 0.76923077, 0.63636364,\n",
       "        0.75757576, 0.67741935, 0.70588235, 0.78947368, 0.82142857]),\n",
       " 'test_recall': array([0.11442786, 0.11442786, 0.13432836, 0.09950249, 0.105     ,\n",
       "        0.125     , 0.105     , 0.12      , 0.15      , 0.11442786])}"
      ]
     },
     "execution_count": 34,
     "metadata": {},
     "output_type": "execute_result"
    }
   ],
   "source": [
    "from sklearn.model_selection import cross_validate\n",
    "cv_results=cross_validate(model,x_new,y,cv=10,scoring=[\"accuracy\",\"precision\",\"recall\"])\n",
    "cv_results"
   ]
  },
  {
   "cell_type": "code",
   "execution_count": 35,
   "id": "9da6e989",
   "metadata": {},
   "outputs": [
    {
     "name": "stdout",
     "output_type": "stream",
     "text": [
      "Accuracy:  0.9687404677228025\n"
     ]
    }
   ],
   "source": [
    "print(\"Accuracy: \", cv_results[\"test_accuracy\"].mean())"
   ]
  },
  {
   "cell_type": "markdown",
   "id": "945cde9c",
   "metadata": {},
   "source": [
    "## Hyper Parameter Tuning"
   ]
  },
  {
   "cell_type": "code",
   "execution_count": 36,
   "id": "47290b80",
   "metadata": {},
   "outputs": [],
   "source": [
    "from sklearn.model_selection import GridSearchCV\n",
    "from sklearn.ensemble import RandomForestClassifier\n",
    "rfc=RandomForestClassifier()"
   ]
  },
  {
   "cell_type": "code",
   "execution_count": 37,
   "id": "5a4782aa",
   "metadata": {},
   "outputs": [],
   "source": [
    "criterion=[\"gini\",\"entropy\"]\n",
    "n_estimators=[100,200,300]\n",
    "max_features=[\"auto\",\"sqrt\",\"log2\"]\n",
    "max_depth=[10,20]\n",
    "max_depth.append(None)"
   ]
  },
  {
   "cell_type": "code",
   "execution_count": 38,
   "id": "b2f8b263",
   "metadata": {},
   "outputs": [
    {
     "data": {
      "text/plain": [
       "dict_items([('criterion', ['gini', 'entropy']), ('n_estimators', [100, 200, 300]), ('max_features', ['auto', 'sqrt', 'log2']), ('max_depth', [10, 20, None])])"
      ]
     },
     "execution_count": 38,
     "metadata": {},
     "output_type": "execute_result"
    }
   ],
   "source": [
    "params={\n",
    "    \"criterion\":criterion,\n",
    "    \"n_estimators\":n_estimators,\n",
    "    \"max_features\":max_features,\n",
    "    \"max_depth\":max_depth\n",
    "}\n",
    "params.items()"
   ]
  },
  {
   "cell_type": "code",
   "execution_count": 39,
   "id": "9351a8f4",
   "metadata": {},
   "outputs": [],
   "source": [
    "gs=GridSearchCV(rfc,param_grid=params,n_jobs=2)"
   ]
  },
  {
   "cell_type": "code",
   "execution_count": 40,
   "id": "15aa95b5",
   "metadata": {},
   "outputs": [
    {
     "data": {
      "text/plain": [
       "GridSearchCV(estimator=RandomForestClassifier(), n_jobs=2,\n",
       "             param_grid={'criterion': ['gini', 'entropy'],\n",
       "                         'max_depth': [10, 20, None],\n",
       "                         'max_features': ['auto', 'sqrt', 'log2'],\n",
       "                         'n_estimators': [100, 200, 300]})"
      ]
     },
     "execution_count": 40,
     "metadata": {},
     "output_type": "execute_result"
    }
   ],
   "source": [
    "gs.fit(x_train_new,y_train_new)"
   ]
  },
  {
   "cell_type": "code",
   "execution_count": 41,
   "id": "150e64e0",
   "metadata": {},
   "outputs": [
    {
     "data": {
      "text/plain": [
       "{'criterion': 'entropy',\n",
       " 'max_depth': None,\n",
       " 'max_features': 'auto',\n",
       " 'n_estimators': 100}"
      ]
     },
     "execution_count": 41,
     "metadata": {},
     "output_type": "execute_result"
    }
   ],
   "source": [
    "gs.best_params_"
   ]
  },
  {
   "cell_type": "code",
   "execution_count": 42,
   "id": "d4019a89",
   "metadata": {},
   "outputs": [
    {
     "data": {
      "text/plain": [
       "0.9682367113924956"
      ]
     },
     "execution_count": 42,
     "metadata": {},
     "output_type": "execute_result"
    }
   ],
   "source": [
    "gs.best_score_"
   ]
  },
  {
   "cell_type": "code",
   "execution_count": 43,
   "id": "20c5e26e",
   "metadata": {},
   "outputs": [
    {
     "data": {
      "text/plain": [
       "0.9685612688378393"
      ]
     },
     "execution_count": 43,
     "metadata": {},
     "output_type": "execute_result"
    }
   ],
   "source": [
    "gs.score(x_test_new, y_test_new)"
   ]
  }
 ],
 "metadata": {
  "kernelspec": {
   "display_name": "Python 3 (ipykernel)",
   "language": "python",
   "name": "python3"
  },
  "language_info": {
   "codemirror_mode": {
    "name": "ipython",
    "version": 3
   },
   "file_extension": ".py",
   "mimetype": "text/x-python",
   "name": "python",
   "nbconvert_exporter": "python",
   "pygments_lexer": "ipython3",
   "version": "3.9.13"
  }
 },
 "nbformat": 4,
 "nbformat_minor": 5
}
